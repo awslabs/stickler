{
 "cells": [
  {
   "cell_type": "markdown",
   "id": "4c914dc1",
   "metadata": {},
   "source": [
    "# Stickler Example: Evaluating Structured Extraction\n",
    "\n",
    "This notebook demonstrates how to use Stickler to evaluate structured data extraction results, using a shipping invoice example from the blog post."
   ]
  },
  {
   "cell_type": "markdown",
   "id": "5da3e2b2",
   "metadata": {},
   "source": [
    "## Setup\n",
    "\n",
    "First, let's import required dependencies and define our data schema classes."
   ]
  },
  {
   "cell_type": "code",
   "execution_count": null,
   "id": "a280b808",
   "metadata": {},
   "outputs": [],
   "source": [
    "from typing import List, Optional\n",
    "\n",
    "from stickler.structured_object_evaluator import StructuredModel, ComparableField\n",
    "from stickler.comparators.levenshtein import LevenshteinComparator\n",
    "from stickler.comparators.exact import ExactComparator\n",
    "from stickler.comparators.numeric import NumericComparator"
   ]
  },
  {
   "cell_type": "markdown",
   "id": "d61519b0",
   "metadata": {},
   "source": [
    "## Schema Definition\n",
    "\n",
    "We'll define our hierarchical data schema using Stickler's StructuredModel base class. Each field is annotated with evaluation parameters through ComparableField."
   ]
  },
  {
   "cell_type": "code",
   "execution_count": 2,
   "id": "58441550",
   "metadata": {},
   "outputs": [],
   "source": [
    "# Define component classes for the shipping invoice structure\n",
    "class Sender(StructuredModel):\n",
    "    \"\"\"Sender information for shipment.\"\"\"\n",
    "    company: str = ComparableField(\n",
    "        comparator=LevenshteinComparator(),\n",
    "        threshold=0.8,\n",
    "        weight=1.0,\n",
    "        description=\"Sender's company name\"\n",
    "    )\n",
    "    address: Optional[str] = ComparableField(\n",
    "        comparator=LevenshteinComparator(),\n",
    "        threshold=0.7,\n",
    "        weight=0.8,\n",
    "        description=\"Street address of the recipient as it appears\",\n",
    "        default=None\n",
    "    )\n",
    "    city: Optional[str] = ComparableField(\n",
    "        comparator=LevenshteinComparator(),\n",
    "        threshold=0.7,\n",
    "        weight=0.8,\n",
    "        description=\"City of the recipient\",\n",
    "        default=None\n",
    "    )\n",
    "\n",
    "\n",
    "class Recipient(StructuredModel):\n",
    "    \"\"\"Recipient information for shipment.\"\"\"\n",
    "    company: str = ComparableField(\n",
    "        comparator=LevenshteinComparator(),\n",
    "        threshold=0.8,\n",
    "        weight=1.0,\n",
    "        description=\"Recipient's company name as it appears\"\n",
    "    )\n",
    "    address: Optional[str] = ComparableField(\n",
    "        comparator=LevenshteinComparator(),\n",
    "        threshold=0.7,\n",
    "        weight=0.8,\n",
    "        description=\"Street address of the recipient as it appears\",\n",
    "        default=None\n",
    "    )\n",
    "    zipCode: Optional[str] = ComparableField(\n",
    "        comparator=NumericComparator(),\n",
    "        threshold=1.0,\n",
    "        weight=0.8,\n",
    "        description=\"Zipcode of the recipient's address\",\n",
    "        default=None\n",
    "    )\n",
    "\n",
    "\n",
    "class AdditionalCharge(StructuredModel):\n",
    "    \"\"\"Additional charge applied to shipment.\"\"\"\n",
    "    description: str = ComparableField(\n",
    "        comparator=LevenshteinComparator(),\n",
    "        threshold=0.8,\n",
    "        weight=1.0,\n",
    "        description=\"Description of the additional charge as it appears\"\n",
    "    )\n",
    "    amount: Optional[float] = ComparableField(\n",
    "        comparator=NumericComparator(),\n",
    "        threshold=0.95,\n",
    "        weight=1.0,\n",
    "        description=\"Amount of the additional charge\",\n",
    "        default=None\n",
    "    )\n",
    "\n",
    "\n",
    "class MostRecentShipment(StructuredModel):\n",
    "    \"\"\"Shipment with the most recent date information.\"\"\"\n",
    "    sender: Optional[Sender] = ComparableField(\n",
    "        threshold=0.8,\n",
    "        weight=1.0,\n",
    "        description=\"Sender information\",\n",
    "        default=None\n",
    "    )\n",
    "    recipient: Optional[Recipient] = ComparableField(\n",
    "        threshold=0.8,\n",
    "        weight=1.0,\n",
    "        description=\"Recipient information\",\n",
    "        default=None\n",
    "    )\n",
    "    shipmentNumber: str = ComparableField(\n",
    "        comparator=ExactComparator(),\n",
    "        threshold=1.0,\n",
    "        weight=2.0,\n",
    "        description=\"Shipment number, used as ID\",\n",
    "        default=None\n",
    "    )\n",
    "    additionalCharges: Optional[List[AdditionalCharge]] = ComparableField(\n",
    "        weight=0.8,\n",
    "        description=\"Details of additional charges applied to the shipment\",\n",
    "        default=None\n",
    "    )\n",
    "\n",
    "\n",
    "class ShippingInvoice(StructuredModel):\n",
    "    \"\"\"Main shipping invoice structure.\"\"\"\n",
    "    mostRecentShipment: Optional[MostRecentShipment] = ComparableField(\n",
    "        threshold=0.8,\n",
    "        weight=3.0,\n",
    "        description=\"Shipment with the most recent date (closest to today's date), always the last item in the list\",\n",
    "        default=None\n",
    "    )\n"
   ]
  },
  {
   "cell_type": "markdown",
   "id": "c0a12812",
   "metadata": {},
   "source": [
    "## Test Data\n",
    "\n",
    "Let's create sample ground truth and prediction data with some deliberate errors to demonstrate Stickler's evaluation capabilities."
   ]
  },
  {
   "cell_type": "code",
   "execution_count": 3,
   "id": "3223eb10",
   "metadata": {},
   "outputs": [],
   "source": [
    "gt_json = {\n",
    "\n",
    "    \"mostRecentShipment\": {\n",
    "        \"sender\": {\n",
    "            \"company\": \"Schumm, Cronin And Grady\"\n",
    "        },\n",
    "        \"recipient\": {\n",
    "            \"address\": \"49418 Renner Key\",\n",
    "            \"company\": \"Stiedemann - Hermann\"\n",
    "        },\n",
    "        \"shipmentNumber\": \"8186386200\",\n",
    "        \"additionalCharges\": [{\n",
    "                \"amount\": 8.62,\n",
    "                \"description\": \"Change Of Address Fee\"\n",
    "            },\n",
    "            {\n",
    "                \"amount\": 5.78,\n",
    "                \"description\": \"Priority Service Charge\"\n",
    "            }\n",
    "        ]\n",
    "    }\n",
    "}\n",
    "\n",
    "pred_json = {\n",
    "\n",
    "    \"mostRecentShipment\": {\n",
    "        \"sender\": {\n",
    "            \"company\": \"Schumm, Cronin And Graddy\"  # Typo: Graddy vs Grady\n",
    "        },\n",
    "        \"recipient\": {\n",
    "            \"address\": \"49418 Renner Key\",\n",
    "            \"company\": \"Stiedemann - Hermann\"\n",
    "        },\n",
    "        \"shipmentNumber\": \"8186386208\", # Last digit typo (it should end with 0 instead of 8) \n",
    "        \"additionalCharges\": [{\n",
    "                \"amount\": 8.62,\n",
    "                \"description\": \"Change Of Address Fees\" # Slight workding change\n",
    "            }       \n",
    "        # One missing entry in additional Charges                                    \n",
    "        ]\n",
    "    }\n",
    "}"
   ]
  },
  {
   "cell_type": "markdown",
   "id": "5a4f1bae",
   "metadata": {},
   "source": [
    "## Basic Evaluation\n",
    "\n",
    "Now let's perform the basic evaluation between ground truth and prediction."
   ]
  },
  {
   "cell_type": "code",
   "execution_count": 4,
   "id": "14b8315a",
   "metadata": {},
   "outputs": [],
   "source": [
    "# Create structured objects from our JSON data\n",
    "gt_invoice = ShippingInvoice(**gt_json)\n",
    "pred_invoice = ShippingInvoice(**pred_json)\n",
    "\n",
    "# Perform comparison with confusion matrix metrics\n",
    "results = gt_invoice.compare_with(pred_invoice, include_confusion_matrix=True)"
   ]
  },
  {
   "cell_type": "markdown",
   "id": "d1aa89f1",
   "metadata": {},
   "source": [
    "## Analyzing Results\n",
    "\n",
    "Let's examine the evaluation results at different levels of the hierarchy."
   ]
  },
  {
   "cell_type": "code",
   "execution_count": 5,
   "id": "9be7e9f7",
   "metadata": {},
   "outputs": [
    {
     "name": "stdout",
     "output_type": "stream",
     "text": [
      "Overall Document Results:\n",
      "{'tp': 0, 'fa': 0, 'fd': 1, 'fp': 1, 'tn': 0, 'fn': 0, 'similarity_score': 0.0, 'all_fields_matched': False, 'derived': {'cm_precision': 0.0, 'cm_recall': 0.0, 'cm_f1': 0.0, 'cm_accuracy': 0.0}}\n",
      "\n",
      "Aggregate Results:\n",
      "{'tp': 5, 'fa': 0, 'fd': 1, 'fp': 1, 'tn': 3, 'fn': 2, 'derived': {'cm_precision': 0.8333333333333334, 'cm_recall': 0.7142857142857143, 'cm_f1': 0.7692307692307692, 'cm_accuracy': 0.7272727272727273}}\n"
     ]
    }
   ],
   "source": [
    "# Overall document-level results\n",
    "print(\"Overall Document Results:\")\n",
    "print(results['confusion_matrix']['overall'])\n",
    "\n",
    "# Aggregate results (including all nested fields)\n",
    "print(\"\\nAggregate Results:\")\n",
    "print(results['confusion_matrix']['aggregate'])"
   ]
  },
  {
   "cell_type": "markdown",
   "id": "93fc0526",
   "metadata": {},
   "source": [
    "## Deep Dive: Additional Charges\n",
    "\n",
    "Let's examine how Stickler handles the list of additional charges, where we have both missing entries and text variations."
   ]
  },
  {
   "cell_type": "code",
   "execution_count": 6,
   "id": "bbcac8ab",
   "metadata": {},
   "outputs": [
    {
     "name": "stdout",
     "output_type": "stream",
     "text": [
      "Ground Truth Additional Charges:\n",
      "[AdditionalCharge(extra_fields={}, description='Change Of Address Fee', amount=8.62), AdditionalCharge(extra_fields={}, description='Priority Service Charge', amount=5.78)]\n",
      "\n",
      "Predicted Additional Charges:\n",
      "[AdditionalCharge(extra_fields={}, description='Change Of Address Fees', amount=8.62)]\n"
     ]
    }
   ],
   "source": [
    "# Extract additional charges for detailed examination\n",
    "gt_additional_charges = getattr(getattr(gt_invoice, \"mostRecentShipment\"), \"additionalCharges\")\n",
    "pred_additional_charges = getattr(getattr(pred_invoice, \"mostRecentShipment\"), \"additionalCharges\")\n",
    "\n",
    "print(\"Ground Truth Additional Charges:\")\n",
    "print(gt_additional_charges)\n",
    "print(\"\\nPredicted Additional Charges:\")\n",
    "print(pred_additional_charges)"
   ]
  },
  {
   "cell_type": "markdown",
   "id": "1535ebb4",
   "metadata": {},
   "source": [
    "### Hungarian Matching Analysis\n",
    "\n",
    "Examine how Stickler matches items in the additional charges list using the Hungarian algorithm."
   ]
  },
  {
   "cell_type": "code",
   "execution_count": 7,
   "id": "e4878b05",
   "metadata": {},
   "outputs": [
    {
     "name": "stdout",
     "output_type": "stream",
     "text": [
      "Matched pairs (ground truth index, prediction index, similarity score):\n",
      "[(0, 0, np.float64(0.9772727272727273))]\n"
     ]
    }
   ],
   "source": [
    "from stickler.structured_object_evaluator.models.hungarian_helper import HungarianHelper\n",
    "\n",
    "# Analyze how items are matched\n",
    "hungarian_helper = HungarianHelper()\n",
    "hungarian_info = hungarian_helper.get_complete_matching_info(gt_additional_charges, pred_additional_charges)\n",
    "matched_pairs = hungarian_info[\"matched_pairs\"]\n",
    "\n",
    "print(\"Matched pairs (ground truth index, prediction index, similarity score):\")\n",
    "print(matched_pairs)"
   ]
  },
  {
   "cell_type": "markdown",
   "id": "264f4fa3",
   "metadata": {},
   "source": [
    "### Field level evaluation shows detailed performance of a field"
   ]
  },
  {
   "cell_type": "code",
   "execution_count": 8,
   "id": "77a5b3c4",
   "metadata": {},
   "outputs": [
    {
     "data": {
      "text/plain": [
       "{'tp': 1,\n",
       " 'fa': 0,\n",
       " 'fd': 0,\n",
       " 'fp': 0,\n",
       " 'tn': 0,\n",
       " 'fn': 1,\n",
       " 'derived': {'cm_precision': 1.0,\n",
       "  'cm_recall': 0.5,\n",
       "  'cm_f1': 0.6666666666666666,\n",
       "  'cm_accuracy': 0.5}}"
      ]
     },
     "execution_count": 8,
     "metadata": {},
     "output_type": "execute_result"
    }
   ],
   "source": [
    "# Overall results for additionalCharges\n",
    "results['confusion_matrix']['fields']['mostRecentShipment']['fields']['additionalCharges']['overall']"
   ]
  },
  {
   "cell_type": "code",
   "execution_count": 9,
   "id": "49f305c8",
   "metadata": {},
   "outputs": [
    {
     "data": {
      "text/plain": [
       "{'tp': 2,\n",
       " 'fa': 0,\n",
       " 'fd': 0,\n",
       " 'fp': 0,\n",
       " 'tn': 0,\n",
       " 'fn': 2,\n",
       " 'derived': {'cm_precision': 1.0,\n",
       "  'cm_recall': 0.5,\n",
       "  'cm_f1': 0.6666666666666666,\n",
       "  'cm_accuracy': 0.5}}"
      ]
     },
     "execution_count": 9,
     "metadata": {},
     "output_type": "execute_result"
    }
   ],
   "source": [
    "# Aggregate results for additionalCharges\n",
    "results['confusion_matrix']['fields']['mostRecentShipment']['fields']['additionalCharges']['aggregate']"
   ]
  },
  {
   "cell_type": "markdown",
   "id": "a90fe7f3",
   "metadata": {},
   "source": [
    "## Conclusion\n",
    "\n",
    "This notebook demonstrates Stickler's key features:\n",
    "- Hierarchical evaluation of nested structures\n",
    "- Field-specific comparison strategies\n",
    "- Weighted scoring based on business importance\n",
    "- Detailed metrics at multiple levels of granularity"
   ]
  }
 ],
 "metadata": {
  "kernelspec": {
   "display_name": "stickler",
   "language": "python",
   "name": "python3"
  },
  "language_info": {
   "codemirror_mode": {
    "name": "ipython",
    "version": 3
   },
   "file_extension": ".py",
   "mimetype": "text/x-python",
   "name": "python",
   "nbconvert_exporter": "python",
   "pygments_lexer": "ipython3",
   "version": "3.12.11"
  }
 },
 "nbformat": 4,
 "nbformat_minor": 5
}
