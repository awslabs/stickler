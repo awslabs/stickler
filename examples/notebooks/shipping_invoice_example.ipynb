{
 "cells": [
  {
   "cell_type": "code",
   "execution_count": null,
   "id": "2aa1d66d",
   "metadata": {},
   "outputs": [],
   "source": [
    "from typing import List, Optional\n",
    "\n",
    "from stickler.structured_object_evaluator import StructuredModel, ComparableField\n",
    "from stickler.comparators.levenshtein import LevenshteinComparator\n",
    "from stickler.comparators.exact import ExactComparator\n",
    "from stickler.comparators.numeric import NumericComparator\n",
    "from stickler.comparators.fuzzy import FuzzyComparator\n",
    "\n",
    "class Sender(StructuredModel):\n",
    "    \"\"\"Sender information for shipment.\"\"\"\n",
    "    company: str = ComparableField(\n",
    "        comparator=LevenshteinComparator(),\n",
    "        threshold=0.8,\n",
    "        weight=1.0,\n",
    "        description=\"Sender's company name\"\n",
    "    )\n",
    "    address: Optional[str] = ComparableField(\n",
    "        comparator=LevenshteinComparator(),\n",
    "        threshold=0.7,\n",
    "        weight=0.8,\n",
    "        description=\"Street address of the recipient as it appears\",\n",
    "        default=None\n",
    "    )\n",
    "    city: Optional[str] = ComparableField(\n",
    "        comparator=LevenshteinComparator(),\n",
    "        threshold=0.7,\n",
    "        weight=0.8,\n",
    "        description=\"City of the recipient\",\n",
    "        default=None\n",
    "    )\n",
    "\n",
    "\n",
    "class Recipient(StructuredModel):\n",
    "    \"\"\"Recipient information for shipment.\"\"\"\n",
    "    company: str = ComparableField(\n",
    "        comparator=LevenshteinComparator(),\n",
    "        threshold=0.8,\n",
    "        weight=1.0,\n",
    "        description=\"Recipient's company name as it appears\"\n",
    "    )\n",
    "    address: Optional[str] = ComparableField(\n",
    "        comparator=LevenshteinComparator(),\n",
    "        threshold=0.7,\n",
    "        weight=0.8,\n",
    "        description=\"Street address of the recipient as it appears\",\n",
    "        default=None\n",
    "    )\n",
    "    zipCode: Optional[str] = ComparableField(\n",
    "        comparator=NumericComparator(),\n",
    "        threshold=1.0,\n",
    "        weight=0.8,\n",
    "        description=\"Zipcode of the recipient's address\",\n",
    "        default=None\n",
    "    )\n",
    "\n",
    "\n",
    "class AdditionalCharge(StructuredModel):\n",
    "    \"\"\"Additional charge applied to shipment.\"\"\"\n",
    "    description: str = ComparableField(\n",
    "        comparator=LevenshteinComparator(),\n",
    "        threshold=0.8,\n",
    "        weight=1.0,\n",
    "        description=\"Description of the additional charge as it appears\"\n",
    "    )\n",
    "    amount: Optional[float] = ComparableField(\n",
    "        comparator=NumericComparator(),\n",
    "        threshold=0.95,\n",
    "        weight=1.0,\n",
    "        description=\"Amount of the additional charge\",\n",
    "        default=None\n",
    "    )\n",
    "\n",
    "\n",
    "class MostRecentShipment(StructuredModel):\n",
    "    \"\"\"Shipment with the most recent date information.\"\"\"\n",
    "    sender: Optional[Sender] = ComparableField(\n",
    "        threshold=0.8,\n",
    "        weight=1.0,\n",
    "        description=\"Sender information\",\n",
    "        default=None\n",
    "    )\n",
    "    recipient: Optional[Recipient] = ComparableField(\n",
    "        threshold=0.8,\n",
    "        weight=1.0,\n",
    "        description=\"Recipient information\",\n",
    "        default=None\n",
    "    )\n",
    "    shipmentNumber: str = ComparableField(\n",
    "        comparator=ExactComparator(),\n",
    "        threshold=1.0,\n",
    "        weight=2.0,\n",
    "        description=\"Shipment number, used as ID\",\n",
    "        default=None\n",
    "    )\n",
    "    additionalCharges: Optional[List[AdditionalCharge]] = ComparableField(\n",
    "        weight=0.8,\n",
    "        description=\"Details of additional charges applied to the shipment\",\n",
    "        default=None\n",
    "    )\n",
    "\n",
    "\n",
    "class ShippingInvoice(StructuredModel):\n",
    "    \"\"\"Main shipping invoice structure.\"\"\"\n",
    "    mostRecentShipment: Optional[MostRecentShipment] = ComparableField(\n",
    "        threshold=0.8,\n",
    "        weight=3.0,\n",
    "        description=\"Shipment with the most recent date (closest to today's date), always the last item in the list\",\n",
    "        default=None\n",
    "    )\n"
   ]
  },
  {
   "cell_type": "code",
   "execution_count": null,
   "id": "86c9d3bd",
   "metadata": {},
   "outputs": [],
   "source": [
    "gt_json = {\n",
    "\n",
    "    \"mostRecentShipment\": {\n",
    "        \"sender\": {\n",
    "            \"company\": \"Schumm, Cronin And Grady\"\n",
    "        },\n",
    "        \"recipient\": {\n",
    "            \"address\": \"49418 Renner Key\",\n",
    "            \"company\": \"Stiedemann - Hermann\"\n",
    "        },\n",
    "        \"shipmentNumber\": \"8186386200\",\n",
    "        \"additionalCharges\": [{\n",
    "                \"amount\": 8.62,\n",
    "                \"description\": \"Change Of Address Fee\"\n",
    "            },\n",
    "            {\n",
    "                \"amount\": 5.78,\n",
    "                \"description\": \"Priority Service Charge\"\n",
    "            }\n",
    "        ]\n",
    "    }\n",
    "}\n",
    "\n",
    "pred_json = {\n",
    "\n",
    "    \"mostRecentShipment\": {\n",
    "        \"sender\": {\n",
    "            \"company\": \"Schumm, Cronin And Graddy\"  # Typo: Graddy vs Grady\n",
    "        },\n",
    "        \"recipient\": {\n",
    "            \"address\": \"49418 Renner Key\",\n",
    "            \"company\": \"Stiedemann - Hermann\"\n",
    "        },\n",
    "        \"shipmentNumber\": \"8186386208\", # Last digit typo (it should end with 0 instead of 8) \n",
    "        \"additionalCharges\": [{\n",
    "                \"amount\": 8.62,\n",
    "                \"description\": \"Change Of Address Fees\" # Slight workding change\n",
    "            }       \n",
    "        # One missing entry in additional Charges                                    \n",
    "        ]\n",
    "    }\n",
    "}"
   ]
  },
  {
   "cell_type": "code",
   "execution_count": 6,
   "id": "8acaf451",
   "metadata": {},
   "outputs": [],
   "source": [
    "gt_invoice = ShippingInvoice(**gt_json)\n",
    "pred_invoice = ShippingInvoice(**pred_json)"
   ]
  },
  {
   "cell_type": "code",
   "execution_count": 9,
   "id": "6bbf5199",
   "metadata": {},
   "outputs": [],
   "source": [
    "results = gt_invoice.compare_with(pred_invoice, include_confusion_matrix=True)"
   ]
  },
  {
   "cell_type": "code",
   "execution_count": null,
   "id": "9dfe562e",
   "metadata": {},
   "outputs": [
    {
     "data": {
      "text/plain": [
       "{'tp': 0,\n",
       " 'fa': 0,\n",
       " 'fd': 1,\n",
       " 'fp': 1,\n",
       " 'tn': 0,\n",
       " 'fn': 0,\n",
       " 'similarity_score': 0.0,\n",
       " 'all_fields_matched': False,\n",
       " 'derived': {'cm_precision': 0.0,\n",
       "  'cm_recall': 0.0,\n",
       "  'cm_f1': 0.0,\n",
       "  'cm_accuracy': 0.0}}"
      ]
     },
     "execution_count": 20,
     "metadata": {},
     "output_type": "execute_result"
    }
   ],
   "source": [
    "# Overall results show that the ground truth ShippingInvoice object does not match the predicted ShippingInvoice object\n",
    "results['confusion_matrix']['overall']"
   ]
  },
  {
   "cell_type": "code",
   "execution_count": null,
   "id": "9681f7cd",
   "metadata": {},
   "outputs": [
    {
     "data": {
      "text/plain": [
       "{'tp': 5,\n",
       " 'fa': 0,\n",
       " 'fd': 1,\n",
       " 'fp': 1,\n",
       " 'tn': 3,\n",
       " 'fn': 2,\n",
       " 'derived': {'cm_precision': 0.8333333333333334,\n",
       "  'cm_recall': 0.7142857142857143,\n",
       "  'cm_f1': 0.7692307692307692,\n",
       "  'cm_accuracy': 0.7272727272727273}}"
      ]
     },
     "execution_count": 21,
     "metadata": {},
     "output_type": "execute_result"
    }
   ],
   "source": [
    "# Aggregate results consider the child nodes' performance for a parent node' performance\n",
    "results['confusion_matrix']['aggregate']"
   ]
  },
  {
   "cell_type": "code",
   "execution_count": null,
   "id": "934fe9bb",
   "metadata": {},
   "outputs": [
    {
     "data": {
      "text/plain": [
       "{'overall': {'tp': 1,\n",
       "  'fa': 0,\n",
       "  'fd': 0,\n",
       "  'fp': 0,\n",
       "  'tn': 0,\n",
       "  'fn': 1,\n",
       "  'derived': {'cm_precision': 1.0,\n",
       "   'cm_recall': 0.5,\n",
       "   'cm_f1': 0.6666666666666666,\n",
       "   'cm_accuracy': 0.5}},\n",
       " 'fields': {'description': {'overall': {'tp': 1,\n",
       "    'fa': 0,\n",
       "    'fd': 0,\n",
       "    'fp': 0,\n",
       "    'tn': 0,\n",
       "    'fn': 1,\n",
       "    'derived': {'cm_precision': 1.0,\n",
       "     'cm_recall': 0.5,\n",
       "     'cm_f1': 0.6666666666666666,\n",
       "     'cm_accuracy': 0.5}},\n",
       "   'aggregate': {'tp': 1,\n",
       "    'fa': 0,\n",
       "    'fd': 0,\n",
       "    'fp': 0,\n",
       "    'tn': 0,\n",
       "    'fn': 1,\n",
       "    'derived': {'cm_precision': 1.0,\n",
       "     'cm_recall': 0.5,\n",
       "     'cm_f1': 0.6666666666666666,\n",
       "     'cm_accuracy': 0.5}}},\n",
       "  'amount': {'overall': {'tp': 1,\n",
       "    'fa': 0,\n",
       "    'fd': 0,\n",
       "    'fp': 0,\n",
       "    'tn': 0,\n",
       "    'fn': 1,\n",
       "    'derived': {'cm_precision': 1.0,\n",
       "     'cm_recall': 0.5,\n",
       "     'cm_f1': 0.6666666666666666,\n",
       "     'cm_accuracy': 0.5}},\n",
       "   'aggregate': {'tp': 1,\n",
       "    'fa': 0,\n",
       "    'fd': 0,\n",
       "    'fp': 0,\n",
       "    'tn': 0,\n",
       "    'fn': 1,\n",
       "    'derived': {'cm_precision': 1.0,\n",
       "     'cm_recall': 0.5,\n",
       "     'cm_f1': 0.6666666666666666,\n",
       "     'cm_accuracy': 0.5}}}},\n",
       " 'raw_similarity_score': 0.5,\n",
       " 'similarity_score': 0.5,\n",
       " 'threshold_applied_score': 0.5,\n",
       " 'weight': 0.8,\n",
       " 'aggregate': {'tp': 2,\n",
       "  'fa': 0,\n",
       "  'fd': 0,\n",
       "  'fp': 0,\n",
       "  'tn': 0,\n",
       "  'fn': 2,\n",
       "  'derived': {'cm_precision': 1.0,\n",
       "   'cm_recall': 0.5,\n",
       "   'cm_f1': 0.6666666666666666,\n",
       "   'cm_accuracy': 0.5}}}"
      ]
     },
     "execution_count": 18,
     "metadata": {},
     "output_type": "execute_result"
    }
   ],
   "source": [
    "# Field level evaluation shows detailed performance of a field\n",
    "results['confusion_matrix']['fields']['mostRecentShipment']['fields']['additionalCharges']"
   ]
  },
  {
   "cell_type": "code",
   "execution_count": 24,
   "id": "7a2f08fa",
   "metadata": {},
   "outputs": [],
   "source": [
    "gt_additional_charges = getattr(getattr(gt_invoice, \"mostRecentShipment\"), \"additionalCharges\")\n",
    "pred_additional_charges = getattr(getattr(pred_invoice, \"mostRecentShipment\"), \"additionalCharges\")"
   ]
  },
  {
   "cell_type": "code",
   "execution_count": 26,
   "id": "47578a60",
   "metadata": {},
   "outputs": [
    {
     "data": {
      "text/plain": [
       "[AdditionalCharge(extra_fields={}, description='Change Of Address Fee', amount=8.62),\n",
       " AdditionalCharge(extra_fields={}, description='Priority Service Charge', amount=5.78)]"
      ]
     },
     "execution_count": 26,
     "metadata": {},
     "output_type": "execute_result"
    }
   ],
   "source": [
    "gt_additional_charges"
   ]
  },
  {
   "cell_type": "code",
   "execution_count": 28,
   "id": "5e624eb9",
   "metadata": {},
   "outputs": [
    {
     "data": {
      "text/plain": [
       "[AdditionalCharge(extra_fields={}, description='Change Of Address Fee', amount=8.62)]"
      ]
     },
     "execution_count": 28,
     "metadata": {},
     "output_type": "execute_result"
    }
   ],
   "source": [
    "pred_additional_charges"
   ]
  },
  {
   "cell_type": "code",
   "execution_count": 30,
   "id": "304be30b",
   "metadata": {},
   "outputs": [
    {
     "data": {
      "text/plain": [
       "[(0, 0, np.float64(1.0))]"
      ]
     },
     "execution_count": 30,
     "metadata": {},
     "output_type": "execute_result"
    }
   ],
   "source": [
    "from stickler.structured_object_evaluator.models.hungarian_helper import HungarianHelper\n",
    "hungarian_helper = HungarianHelper()\n",
    "hungarian_info = hungarian_helper.get_complete_matching_info(gt_additional_charges, pred_additional_charges)\n",
    "matched_pairs = hungarian_info[\"matched_pairs\"]\n",
    "matched_pairs"
   ]
  },
  {
   "cell_type": "code",
   "execution_count": null,
   "id": "a15c45f2",
   "metadata": {},
   "outputs": [],
   "source": []
  }
 ],
 "metadata": {
  "kernelspec": {
   "display_name": "stickler",
   "language": "python",
   "name": "python3"
  },
  "language_info": {
   "codemirror_mode": {
    "name": "ipython",
    "version": 3
   },
   "file_extension": ".py",
   "mimetype": "text/x-python",
   "name": "python",
   "nbconvert_exporter": "python",
   "pygments_lexer": "ipython3",
   "version": "3.12.11"
  }
 },
 "nbformat": 4,
 "nbformat_minor": 5
}
